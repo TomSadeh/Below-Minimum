{
 "cells": [
  {
   "cell_type": "markdown",
   "metadata": {},
   "source": [
    "# Below Minimum Wage"
   ]
  },
  {
   "cell_type": "markdown",
   "metadata": {},
   "source": [
    "## Intro"
   ]
  },
  {
   "cell_type": "markdown",
   "metadata": {},
   "source": [
    "This script calculates and shows with histograms the hourly wages in different Sectors in the Israeli economy, according to the CBS Households Expenditures 2018 Survey data. "
   ]
  },
  {
   "cell_type": "markdown",
   "metadata": {},
   "source": [
    "## The Code"
   ]
  },
  {
   "cell_type": "markdown",
   "metadata": {},
   "source": [
    "### Calculations"
   ]
  },
  {
   "cell_type": "markdown",
   "metadata": {},
   "source": [
    "Firstly, we import the requaired libraries."
   ]
  },
  {
   "cell_type": "code",
   "execution_count": null,
   "metadata": {},
   "outputs": [],
   "source": [
    "import pandas as pd\n",
    "import numpy as np\n",
    "import matplotlib.pyplot as plt"
   ]
  },
  {
   "cell_type": "markdown",
   "metadata": {},
   "source": [
    "Then we define some basic functions to invert strings and calculate weighted median."
   ]
  },
  {
   "cell_type": "code",
   "execution_count": null,
   "metadata": {},
   "outputs": [],
   "source": [
    "def weighted_median(data, weights, interpolate = False):\n",
    "    \"\"\"\n",
    "    A function that calculates the weighted median of a given series of values \n",
    "    by using a series of weights.\n",
    "    \n",
    "    Parameters\n",
    "    ----------\n",
    "    data : Iterable\n",
    "        The data which the function calculates the median for.\n",
    "    weights : Iterable\n",
    "        The weights the function uses to calculate an weighted median.\n",
    "    interpolate : bool\n",
    "        A boolean argument for interpolating the median, if necessary.\n",
    "        The default value is False.\n",
    "        \n",
    "    Returns\n",
    "    -------\n",
    "    numpy.float64\n",
    "        The function return the weighted median.\n",
    "        \n",
    "    Required libraries\n",
    "    ---------\n",
    "    Numpy.\n",
    "    \"\"\"\n",
    "    #Forcing the data to a numpy array.\n",
    "    data = np.array(data)\n",
    "    weights = np.array(weights)\n",
    "    \n",
    "    #Sorting the data and the weights.\n",
    "    ind_sorted = np.argsort(data)\n",
    "    sorted_data = data[ind_sorted]\n",
    "    sorted_weights = weights[ind_sorted]\n",
    "   \n",
    "    #Calculating the cumulative sum of the weights.\n",
    "    sn = np.cumsum(sorted_weights)\n",
    "    \n",
    "    #Calculating the threshold.\n",
    "    threshold = sorted_weights.sum()/2\n",
    "   \n",
    "    #Interpolating the median and returning it.\n",
    "    if interpolate:\n",
    "        return np.interp(0.5, (sn - 0.5 * sorted_weights) / np.sum(sorted_weights), sorted_data)\n",
    "    \n",
    "    #Returning the first value that equals or larger than the threshold.\n",
    "    else:\n",
    "        return sorted_data[sn >= threshold][0]\n",
    "\n",
    "def invert(string):\n",
    "    \"\"\"\n",
    "    A function which invert a string.\n",
    "    Parameters\n",
    "    ----------\n",
    "    string : string\n",
    "        the string to invert.\n",
    "\n",
    "    Returns\n",
    "    -------\n",
    "    string\n",
    "        An inverted string.\n",
    "\n",
    "    Required libraries\n",
    "    ------------------\n",
    "    None.\n",
    "    \"\"\"\n",
    "    return string[::-1]"
   ]
  },
  {
   "cell_type": "markdown",
   "metadata": {},
   "source": [
    "After that we import the data. Enter the file address in the base_address variable and don't erase the 'r'."
   ]
  },
  {
   "cell_type": "code",
   "execution_count": null,
   "metadata": {},
   "outputs": [],
   "source": [
    "base_address = r''\n",
    "prat = pd.read_csv(base_address + '\\\\H20181023dataprat.csv')\n",
    "anaf_names = pd.read_csv(base_address + '\\\\anaf_names.csv', index_col = 'Code')"
   ]
  },
  {
   "cell_type": "markdown",
   "metadata": {},
   "source": [
    "We then replace the '\\\\\\n' default string with '\\n', in order to go down to a new line in the titles of the figures correctly, and creating an empty DataFrame to contain the analysis results."
   ]
  },
  {
   "cell_type": "code",
   "execution_count": null,
   "metadata": {},
   "outputs": [],
   "source": [
    "anaf_names = anaf_names.apply(lambda x: x.str.replace(r'\\\\n', '\\\\n'))\n",
    "results = pd.DataFrame()"
   ]
  },
  {
   "cell_type": "markdown",
   "metadata": {},
   "source": [
    "We are dropping the nan's, and calculating hourly wages, by multipling the weekly hours by the weeks worked each month, and the dividing the gross monthly wages by that value. "
   ]
  },
  {
   "cell_type": "code",
   "execution_count": null,
   "metadata": {},
   "outputs": [],
   "source": [
    "prat = prat[prat['sh_shavua'].notna()].copy()\n",
    "prat['sh_hodesh'] = prat['sh_shavua'] * prat['shavuot']\n",
    "prat['i111 to hour'] = prat['i111prat'] / prat['sh_hodesh']"
   ]
  },
  {
   "cell_type": "markdown",
   "metadata": {},
   "source": [
    "Then we create a boolean series and of workers that earn below minimum wage and below 10 NIS per hour, respectively."
   ]
  },
  {
   "cell_type": "code",
   "execution_count": null,
   "metadata": {},
   "outputs": [],
   "source": [
    "prat['below min'] = prat['i111 to hour'] < 29.12\n",
    "prat['really below min'] = prat['i111 to hour'] < 10"
   ]
  },
  {
   "cell_type": "markdown",
   "metadata": {},
   "source": [
    "Then we create the main loop of the calculations."
   ]
  },
  {
   "cell_type": "code",
   "execution_count": null,
   "metadata": {},
   "outputs": [],
   "source": [
    "for anaf in prat['anaf1'].unique():\n",
    "    # Grouping the workers by Economic Section.\n",
    "    grouped = prat.groupby('anaf1').get_group(anaf)\n",
    "    # Calculating the workers that earn below minimum wage and below 10 NIS per hour, respectively.\n",
    "    results.loc[anaf, 'below min'] = grouped[grouped['below min']]['weight'].sum() / grouped['weight'].sum()\n",
    "    results.loc[anaf, 'really below min'] = grouped[grouped['really below min']]['weight'].sum() / grouped['weight'].sum()\n",
    "    # Calculating median and average hourly wages.\n",
    "    results.loc[anaf, 'median hourly wage'] = weighted_median(grouped['i111 to hour'], weights = grouped['weight'])\n",
    "    results.loc[anaf, 'average hourly wage'] = np.average(grouped['i111 to hour'], weights = grouped['weight'])\n",
    "    # Recording the size of the Section by the number of employees.\n",
    "    results.loc[anaf, 'weight'] = grouped['weight'].sum() "
   ]
  },
  {
   "cell_type": "markdown",
   "metadata": {},
   "source": [
    "### The Histogarms"
   ]
  },
  {
   "cell_type": "markdown",
   "metadata": {},
   "source": [
    "First, we create a dictionary for the three figures labels and a DataFrame ilustrating the shape."
   ]
  },
  {
   "cell_type": "code",
   "execution_count": null,
   "metadata": {},
   "outputs": [],
   "source": [
    "labels_dict = dict(shah = ' ש\"ח לשעה',\n",
    "                   average = 'ממוצע - ',\n",
    "                   median = 'חציון - ',\n",
    "                   minimum = 'שכר מינימום - ',\n",
    "                   title = 'התפלגות השכר השעתי ב-8102, לפי ענפים',\n",
    "                   percent_text = 'מתחת ל-21.92',\n",
    "                   percent_really_text = ' מתחת ל-01',\n",
    "                   xtitle = 'שכר ברוטו לשעה בש\"ח',\n",
    "                   ytitle = 'צפיפות')\n",
    "                   \n",
    "fig_rows = 7\n",
    "xticks_loc = list(np.arange(0, 250, step = 50))\n",
    "fig_shape = pd.DataFrame(columns = ['First', 'Second', 'Third'], \n",
    "                         index = np.arange(1,8), \n",
    "                         data = [['A','I','P'],\n",
    "                                 ['B','J','Q'],\n",
    "                                 ['D','K','R'],\n",
    "                                 ['E','L','S'],\n",
    "                                 ['F','M','T'],\n",
    "                                 ['G','N','U'],\n",
    "                                 ['H','O','X']])\n",
    "font_sizes = dict(small = 12,\n",
    "                  medium = 14,\n",
    "                  medium_l = 25,\n",
    "                  large = 40)"
   ]
  },
  {
   "cell_type": "markdown",
   "metadata": {},
   "source": [
    "Then we control the general font size and family."
   ]
  },
  {
   "cell_type": "code",
   "execution_count": null,
   "metadata": {},
   "outputs": [],
   "source": [
    "plt.rc('font', size = font_sizes['small'])          # Controls default text sizes\n",
    "plt.rc('axes', titlesize = font_sizes['medium'])    # Fontsize of the axes title\n",
    "plt.rc('axes', labelsize = font_sizes['medium'])    # Fontsize of the x and y labels\n",
    "plt.rc('xtick', labelsize = font_sizes['small'])    # Fontsize of the tick labels\n",
    "plt.rc('ytick', labelsize = font_sizes['small'])    # Fontsize of the tick labels\n",
    "plt.rc('legend', fontsize = font_sizes['small'])    # Legend fontsize\n",
    "plt.rc('figure', titlesize = font_sizes['large'])   # Fontsize of the figure title\n",
    "plt.rc('font', family = 'Alef')                     # Font family"
   ]
  },
  {
   "cell_type": "markdown",
   "metadata": {},
   "source": [
    "Then it's time for the main loop of the histograms creation."
   ]
  },
  {
   "cell_type": "code",
   "execution_count": null,
   "metadata": {},
   "outputs": [],
   "source": [
    "for anaf_column in fig_shape.columns:\n",
    "    fig, axs = plt.subplots(nrows = fig_rows, ncols = 1,\n",
    "                            sharey = True,\n",
    "                            figsize = (7,21))\n",
    "    fig.dpi = 500\n",
    "    fig.suptitle(invert(labels_dict['title']), y = 0.98, x = 0.7)\n",
    "    \n",
    "    # The for loop for each individual histogram in the figure.\n",
    "    for row, anaf_row in zip(range(0, fig_rows), fig_shape.index):\n",
    "        anaf = fig_shape.loc[anaf_row, anaf_column]\n",
    "        \n",
    "        # Filtering each Section and setting the specific histogram title.\n",
    "        anaf_df = prat[prat['anaf1'] == anaf]\n",
    "        axs[row].set_title(invert(anaf_names.loc[anaf, 'Name']))\n",
    "        \n",
    "        # Drawing the histogram with bins of 3 NIS/hour, probabilty density and the weights of the survey.\n",
    "        axs[row].hist(anaf_df['i111 to hour'], bins = np.arange(0, 200, step = 3), density = True, weights = anaf_df['weight'], label = invert('שכר ברוטו לשעה'))\n",
    "        \n",
    "        # Drawing vertical lines for the average, median and the hourly minimum wage on the histogram.\n",
    "        axs[row].axvline(np.average(anaf_df['i111 to hour'], weights = anaf_df['weight']), color = 'black', label = invert(labels_dict['shah']) + invert(labels_dict['average']))\n",
    "        axs[row].axvline(weighted_median(anaf_df['i111 to hour'], anaf_df['weight']), color = 'black', linestyle = '--', label = invert(labels_dict['shah']) + invert(labels_dict['median']))\n",
    "        axs[row].axvline(29.12, color = 'black', linestyle = ':', label = invert(labels_dict['shah']) + '29.12' + invert(labels_dict['minimum']))\n",
    "        \n",
    "        # Adding the box outside and to the right of the histograms.\n",
    "        percent_below_min = str(np.round(results.loc[anaf, 'below min'] * 100, 2))\n",
    "        percent_really_below_min = str(np.round(results.loc[anaf, 'really below min'] * 100, 2))\n",
    "        axs[row].annotate('          ' +\n",
    "                          percent_below_min + \n",
    "                          '%' +\n",
    "                          '\\n' +\n",
    "                          invert(labels_dict['shah']) + \n",
    "                          invert(labels_dict['percent_text']),\n",
    "                          xy = (450, 50),\n",
    "                          xycoords = 'axes points', \n",
    "                          annotation_clip = False, \n",
    "                          bbox = dict(boxstyle = \"round4\", fc = \"w\"))\n",
    "        axs[row].annotate('          ' +\n",
    "                          percent_really_below_min + \n",
    "                          '%' +\n",
    "                          '\\n' +\n",
    "                          invert(labels_dict['shah']) + \n",
    "                          invert(labels_dict['percent_really_text']),\n",
    "                          xy = (450, 10),\n",
    "                          xycoords = 'axes points', \n",
    "                          annotation_clip = False, \n",
    "                          bbox = dict(boxstyle = \"round4\", fc = \"w\"))\n",
    "        \n",
    "        # Setting the labels and ticks of the x axis.\n",
    "        axs[row].set_xticks(xticks_loc)\n",
    "        axs[row].set_xticklabels(map(str, xticks_loc))\n",
    "    \n",
    "    # Creating the legend and adjusting the whitespace of the figure.\n",
    "    handles, labels = axs[row].get_legend_handles_labels()\n",
    "    plt.subplots_adjust(hspace = 1, wspace = 1)\n",
    "    fig.legend(handles, labels, loc = 'upper center', bbox_to_anchor = (0.7, 0.95))\n",
    "    \n",
    "    # Adding the x and y labels.\n",
    "    fig.text(0.5, 0.1, invert(labels_dict['xtitle']), ha = 'center', fontsize = font_sizes['medium_l'])\n",
    "    fig.text(-0.04, 0.5, invert(labels_dict['ytitle']), va = 'center', rotation = 'vertical', fontsize = font_sizes['medium_l'])\n",
    "    \n",
    "    # Saving the figure. Enter your address here and don't erase the 'r'.\n",
    "    fig_base_address = r''\n",
    "    plt.savefig(fig_base_address + '\\\\' + str(anaf_column) + '.png', bbox_inches = 'tight')\n",
    "    plt.show()\n",
    "    plt.close()\n"
   ]
  },
  {
   "cell_type": "markdown",
   "metadata": {},
   "source": [
    "Finally we sort the results DataFrame and exporting the results to a csv file. Enter your prefered address and don't erase the 'r'.   "
   ]
  },
  {
   "cell_type": "code",
   "execution_count": null,
   "metadata": {},
   "outputs": [],
   "source": [
    "csv_base_address = r''\n",
    "results.sort_index(inplace = True)\n",
    "results.to_csv(csv_base_address + '\\\\results_below_min.csv')"
   ]
  }
 ],
 "metadata": {
  "kernelspec": {
   "display_name": "Python 3",
   "language": "python",
   "name": "python3"
  },
  "language_info": {
   "codemirror_mode": {
    "name": "ipython",
    "version": 3
   },
   "file_extension": ".py",
   "mimetype": "text/x-python",
   "name": "python",
   "nbconvert_exporter": "python",
   "pygments_lexer": "ipython3",
   "version": "3.8.5"
  }
 },
 "nbformat": 4,
 "nbformat_minor": 4
}
